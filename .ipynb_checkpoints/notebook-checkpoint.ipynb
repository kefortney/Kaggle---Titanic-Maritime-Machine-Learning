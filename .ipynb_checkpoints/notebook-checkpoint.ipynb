{
 "cells": [
  {
   "cell_type": "markdown",
   "metadata": {},
   "source": [
    "Summary\n",
    "-------\n",
    "\n",
    "On April 15, 1912 the RMS Titanic carrying 2,224 passengers (including crew) struck an iceberg and over the next two hours slid below the icy waves along with over 1,500 dead by the time the RMS Carpathia over 6 hours later.  Oddly enough, the RMS Titanic was actually carrying more lifeboats than required by law which was based on gross tonnage, not number of passengers.  If every life boat has been successfully launched at full capacity (most were not fully loaded and two drifted away as she sunk) there would have only been room for 1,178 in total, still well shy the number of people aboard.\n",
    "\n",
    "This is an exploration of using machine learning to determine factors in survival.  The dataset is of passengers only (crew numbered about 885 people and a survival rate of around 24%).  Titanic's passengers numbered approximately 1,317 people: 324 in First Class, 284 in Second Class, and 709 in Third Class but this data set has a total pf 1,309 passenger records.  If the RMS Titanic had a full ship of 3,339 passengers and crew the accident would have been much deadlier\n",
    "\n",
    "The Data\n",
    "--------\n",
    "\n",
    "* PassengerId - Unique Identifier\n",
    "* Survival -Survival (0 = No; 1 = Yes)\n",
    "* Pclass 1 - First Class, 2 = Second Class, 3 = Third Class\n",
    "* Name - Last Name, Surname First Name and additional qualifier if needed\n",
    "* Sex - Male or Female\n",
    "* Age - Age, Fractional if Age less than One (1) If the Age is Estimated, it is in the form xx.5\n",
    "* SibSp - Number of Siblings/Spouses Aboard\n",
    "* Parch - Number of Parents/Children Aboard\n",
    "* Ticket - Ticket Number\n",
    "* Fare - Passenger Fare\n",
    "* Cabin - Cabin with the letter being deck and number is cabin, decks should be A-G\n",
    "* Embarked - Port where person board (C = Cherbourg; Q = Queenstown; S = Southampton)\n",
    "\n",
    "As this is my first foray into machine learning, please comment below with any suggestions or notes!  "
   ]
  },
  {
   "cell_type": "code",
   "execution_count": 1,
   "metadata": {
    "collapsed": false
   },
   "outputs": [
    {
     "name": "stderr",
     "output_type": "stream",
     "text": [
      "C:\\Users\\kefor\\Anaconda3\\lib\\site-packages\\sklearn\\cross_validation.py:44: DeprecationWarning: This module was deprecated in version 0.18 in favor of the model_selection module into which all the refactored classes and functions are moved. Also note that the interface of the new CV iterators are different from that of this module. This module will be removed in 0.20.\n",
      "  \"This module will be removed in 0.20.\", DeprecationWarning)\n"
     ]
    },
    {
     "data": {
      "image/png": "[encoded data removed]",
      "text/plain": [
       "<matplotlib.figure.Figure at 0x1619cf52c50>"
      ]
     },
     "metadata": {},
     "output_type": "display_data"
    }
   ],
   "source": [
    "\n",
    "# Handle table-like data and matrices\n",
    "import numpy as np\n",
    "import pandas as pd\n",
    "\n",
    "# Modelling Algorithms\n",
    "from sklearn.tree import DecisionTreeClassifier\n",
    "from sklearn.linear_model import LogisticRegression\n",
    "from sklearn.neighbors import KNeighborsClassifier\n",
    "from sklearn.naive_bayes import GaussianNB\n",
    "from sklearn.svm import SVC, LinearSVC\n",
    "from sklearn.ensemble import RandomForestClassifier , GradientBoostingClassifier\n",
    "\n",
    "# Modelling Helpers\n",
    "from sklearn.preprocessing import Imputer , Normalizer , scale\n",
    "from sklearn.cross_validation import train_test_split , StratifiedKFold\n",
    "from sklearn.feature_selection import RFECV\n",
    "from sklearn.preprocessing import LabelEncoder,OneHotEncoder\n",
    "\n",
    "# Visualisation\n",
    "import matplotlib as plt\n",
    "import matplotlib.pylab as pylab\n",
    "import seaborn as sns\n",
    "\n",
    "# Configure visualisations\n",
    "%matplotlib inline\n",
    "sns.set(style=\"ticks\")\n",
    "sns.palplot(sns.color_palette(\"GnBu_d\"))\n"
   ]
  },
  {
   "cell_type": "markdown",
   "metadata": {},
   "source": [
    "Data Importation and Cleaning\n",
    "---------------------------\n",
    "\n",
    "First I wanted to get an understanding of the data and see how many are missing values.  At first I need to import from csv's both the training and the test data sets."
   ]
  },
  {
   "cell_type": "code",
   "execution_count": 2,
   "metadata": {
    "collapsed": false,
    "scrolled": true
   },
   "outputs": [
    {
     "name": "stdout",
     "output_type": "stream",
     "text": [
      "THIS IS THE TRAIN_DF INFO\n",
      "<class 'pandas.core.frame.DataFrame'>\n",
      "RangeIndex: 891 entries, 0 to 890\n",
      "Data columns (total 12 columns):\n",
      "PassengerId    891 non-null int64\n",
      "Survived       891 non-null int64\n",
      "Pclass         891 non-null int64\n",
      "Name           891 non-null object\n",
      "Sex            891 non-null object\n",
      "Age            714 non-null float64\n",
      "SibSp          891 non-null int64\n",
      "Parch          891 non-null int64\n",
      "Ticket         891 non-null object\n",
      "Fare           891 non-null float64\n",
      "Cabin          204 non-null object\n",
      "Embarked       889 non-null object\n",
      "dtypes: float64(2), int64(5), object(5)\n",
      "memory usage: 83.6+ KB\n",
      "-------------------------\n",
      "THIS IS THE TEST_DF INFO\n",
      "<class 'pandas.core.frame.DataFrame'>\n",
      "RangeIndex: 418 entries, 0 to 417\n",
      "Data columns (total 11 columns):\n",
      "PassengerId    418 non-null int64\n",
      "Pclass         418 non-null int64\n",
      "Name           418 non-null object\n",
      "Sex            418 non-null object\n",
      "Age            332 non-null float64\n",
      "SibSp          418 non-null int64\n",
      "Parch          418 non-null int64\n",
      "Ticket         418 non-null object\n",
      "Fare           417 non-null float64\n",
      "Cabin          91 non-null object\n",
      "Embarked       418 non-null object\n",
      "dtypes: float64(2), int64(4), object(5)\n",
      "memory usage: 36.0+ KB\n"
     ]
    }
   ],
   "source": [
    "# get titanic & test csv files as a DataFrame\n",
    "train_df = pd.read_csv(\"~/Desktop/Kaggle---Titanic-Maritime-Machine-Learning/train.csv\")\n",
    "test_df = pd.read_csv(\"~/Desktop/Kaggle---Titanic-Maritime-Machine-Learning/test.csv\")\n",
    "\n",
    "# if you want to see where values are missing\n",
    "print(\"THIS IS THE TRAIN_DF INFO\")\n",
    "train_df.info()\n",
    "print(\"-------------------------\")\n",
    "print(\"THIS IS THE TEST_DF INFO\")\n",
    "test_df.info()\n",
    "\n"
   ]
  },
  {
   "cell_type": "markdown",
   "metadata": {},
   "source": [
    "Cleaning Data\n",
    "-------------\n",
    "\n",
    "There are some missing values, some are simpler than others. The first one is a quick fill for the missing single fare with the median value.  A quick check shows that most of the nulls are under Age and Cabin and we will deal with them next."
   ]
  },
  {
   "cell_type": "code",
   "execution_count": 3,
   "metadata": {
    "collapsed": false
   },
   "outputs": [
    {
     "ename": "AttributeError",
     "evalue": "module 'matplotlib' has no attribute 'title'",
     "output_type": "error",
     "traceback": [
      "\u001b[0;31m---------------------------------------------------------------------------\u001b[0m",
      "\u001b[0;31mAttributeError\u001b[0m                            Traceback (most recent call last)",
      "\u001b[0;32m<ipython-input-3-0ba4920feecf>\u001b[0m in \u001b[0;36m<module>\u001b[0;34m()\u001b[0m\n\u001b[1;32m      5\u001b[0m \u001b[1;31m# Plot of embarking location\u001b[0m\u001b[1;33m\u001b[0m\u001b[1;33m\u001b[0m\u001b[0m\n\u001b[1;32m      6\u001b[0m \u001b[0mtrain_df\u001b[0m\u001b[1;33m.\u001b[0m\u001b[0mEmbarked\u001b[0m\u001b[1;33m.\u001b[0m\u001b[0mvalue_counts\u001b[0m\u001b[1;33m(\u001b[0m\u001b[1;33m)\u001b[0m\u001b[1;33m.\u001b[0m\u001b[0mplot\u001b[0m\u001b[1;33m(\u001b[0m\u001b[0mkind\u001b[0m\u001b[1;33m=\u001b[0m\u001b[1;34m'bar'\u001b[0m\u001b[1;33m,\u001b[0m \u001b[0malpha\u001b[0m\u001b[1;33m=\u001b[0m\u001b[1;36m0.55\u001b[0m\u001b[1;33m)\u001b[0m\u001b[1;33m\u001b[0m\u001b[0m\n\u001b[0;32m----> 7\u001b[0;31m \u001b[0mplt\u001b[0m\u001b[1;33m.\u001b[0m\u001b[0mtitle\u001b[0m\u001b[1;33m(\u001b[0m\u001b[1;34m\"Passengers per boarding location\"\u001b[0m\u001b[1;33m)\u001b[0m\u001b[1;33m\u001b[0m\u001b[0m\n\u001b[0m\u001b[1;32m      8\u001b[0m \u001b[1;33m\u001b[0m\u001b[0m\n\u001b[1;32m      9\u001b[0m \u001b[1;31m# Fill in the single missing fare with median value\u001b[0m\u001b[1;33m\u001b[0m\u001b[1;33m\u001b[0m\u001b[0m\n",
      "\u001b[0;31mAttributeError\u001b[0m: module 'matplotlib' has no attribute 'title'"
     ]
    },
    {
     "data": {
      "image/png": "[encoded data removed]",
      "text/plain": [
       "<matplotlib.figure.Figure at 0x1619d5df6d8>"
      ]
     },
     "metadata": {},
     "output_type": "display_data"
    }
   ],
   "source": [
    "# Embarked only in train_df, fill the two missing values with the most occurred value, which is \"S\".\n",
    "train_df[\"Embarked\"].value_counts() \n",
    "train_df[\"Embarked\"] = train_df[\"Embarked\"].fillna(\"S\")\n",
    "\n",
    "# Plot of embarking location \n",
    "train_df.Embarked.value_counts().plot(kind='bar', alpha=0.55)\n",
    "plt.title(\"Passengers per boarding location\")\n",
    "\n",
    "# Fill in the single missing fare with median value\n",
    "test_df[\"Fare\"].fillna(test_df[\"Fare\"].median(), inplace=True)\n",
    "\n",
    "# Convert fare from float to int\n",
    "train_df['Fare'] = train_df['Fare'].astype(int)\n",
    "test_df['Fare'] = test_df['Fare'].astype(int)"
   ]
  },
  {
   "cell_type": "markdown",
   "metadata": {},
   "source": [
    "Family Size\n",
    "-------\n",
    "\n",
    "Before tackling the missing Age information, it makes sense to do a little feature engineering now.  First is the simple creation of FamilySize which fives you the overall sie of the family.  "
   ]
  },
  {
   "cell_type": "code",
   "execution_count": null,
   "metadata": {
    "collapsed": false
   },
   "outputs": [],
   "source": [
    "# Create a family size variable including the passenger themselves\n",
    "train_df[\"FamilySize\"] = train_df[\"SibSp\"] + train_df[\"Parch\"]+1\n",
    "test_df[\"FamilySize\"] = test_df[\"SibSp\"] + test_df[\"Parch\"]+1\n",
    "\n",
    "# Quick plot of family size \n",
    "plt.hist(train_df['FamilySize'])\n",
    "\n"
   ]
  },
  {
   "cell_type": "markdown",
   "metadata": {},
   "source": [
    "Name\n",
    "-------\n",
    "\n",
    "Next is taking a look at the Names and see what can be extracted. As you can see below there is the last name, a comma, title, First, Middle name and then anything additional in parenthesis."
   ]
  },
  {
   "cell_type": "code",
   "execution_count": null,
   "metadata": {
    "collapsed": false
   },
   "outputs": [],
   "source": [
    "train_df['Name'].head(5)"
   ]
  },
  {
   "cell_type": "markdown",
   "metadata": {},
   "source": [
    "Title\n",
    "--------\n",
    "\n",
    "The next step is to split out the title and simplfy the possible iterations.  This will replace the multitude of titles with just five: Mr, Mrs, Miss, Master and Rare Title.  "
   ]
  },
  {
   "cell_type": "code",
   "execution_count": null,
   "metadata": {
    "collapsed": false
   },
   "outputs": [],
   "source": [
    "import re\n",
    "\n",
    "# function to get the title from a name.\n",
    "def get_title(name):\n",
    "    # Use a regular expression to search for a title.  Titles always consist of capital and lowercase letters, and end with a period.\n",
    "    title_search = re.search(' ([A-Za-z]+)\\.', name)\n",
    "    #If the title exists, extract and return it.\n",
    "    if title_search:\n",
    "        return title_search.group(1)\n",
    "    return \"\"\n",
    "\n",
    "# Get all the titles\n",
    "titles = train_df[\"Name\"].apply(get_title)\n",
    "\n",
    "#Add in the title column with all the current values so we can then manually change them\n",
    "train_df[\"Title\"] = titles\n",
    "\n",
    "# Check count of title values to give the list of titles that need to be changed\n",
    "# print(pd.value_counts(titles))\n",
    "\n",
    "# Titles with very low cell counts to be combined to \"rare\" level\n",
    "rare_title = ['Dona', 'Lady', 'Countess','Capt', 'Col', 'Don', \n",
    "                'Dr', 'Major', 'Rev', 'Sir', 'Jonkheer']\n",
    "\n",
    "# Also reassign mlle, ms, and mme accordingly\n",
    "train_df.loc[train_df[\"Title\"] == \"Mlle\", \"Title\"] = 'Miss'\n",
    "train_df.loc[train_df[\"Title\"] == \"Ms\", \"Title\"] = 'Miss'\n",
    "train_df.loc[train_df[\"Title\"] == \"Mme\", \"Title\"] = 'Mrs'\n",
    "train_df.loc[train_df[\"Title\"] == \"Dona\", \"Title\"] = 'Rare Title'\n",
    "train_df.loc[train_df[\"Title\"] == \"Lady\", \"Title\"] = 'Rare Title'\n",
    "train_df.loc[train_df[\"Title\"] == \"Countess\", \"Title\"] = 'Rare Title'\n",
    "train_df.loc[train_df[\"Title\"] == \"Capt\", \"Title\"] = 'Rare Title'\n",
    "train_df.loc[train_df[\"Title\"] == \"Col\", \"Title\"] = 'Rare Title'\n",
    "train_df.loc[train_df[\"Title\"] == \"Don\", \"Title\"] = 'Rare Title'\n",
    "train_df.loc[train_df[\"Title\"] == \"Major\", \"Title\"] = 'Rare Title'\n",
    "train_df.loc[train_df[\"Title\"] == \"Rev\", \"Title\"] = 'Rare Title'\n",
    "train_df.loc[train_df[\"Title\"] == \"Sir\", \"Title\"] = 'Rare Title'\n",
    "train_df.loc[train_df[\"Title\"] == \"Jonkheer\", \"Title\"] = 'Rare Title'\n",
    "train_df.loc[train_df[\"Title\"] == \"Dr\", \"Title\"] = 'Rare Title'\n",
    "\n",
    "titles = train_df[\"Name\"].apply(get_title)\n",
    "# print(pd.value_counts(titles))\n",
    "\n",
    "#Add in the title column.\n",
    "test_df[\"Title\"] = titles\n",
    "\n",
    "# Titles with very low cell counts to be combined to \"rare\" level\n",
    "rare_title = ['Dona', 'Lady', 'Countess','Capt', 'Col', 'Don', \n",
    "                'Dr', 'Major', 'Rev', 'Sir', 'Jonkheer']\n",
    "\n",
    "# Also reassign mlle, ms, and mme accordingly\n",
    "test_df.loc[test_df[\"Title\"] == \"Mlle\", \"Title\"] = 'Miss'\n",
    "test_df.loc[test_df[\"Title\"] == \"Ms\", \"Title\"] = 'Miss'\n",
    "test_df.loc[test_df[\"Title\"] == \"Mme\", \"Title\"] = 'Mrs'\n",
    "test_df.loc[test_df[\"Title\"] == \"Dona\", \"Title\"] = 'Rare Title'\n",
    "test_df.loc[test_df[\"Title\"] == \"Lady\", \"Title\"] = 'Rare Title'\n",
    "test_df.loc[test_df[\"Title\"] == \"Countess\", \"Title\"] = 'Rare Title'\n",
    "test_df.loc[test_df[\"Title\"] == \"Capt\", \"Title\"] = 'Rare Title'\n",
    "test_df.loc[test_df[\"Title\"] == \"Col\", \"Title\"] = 'Rare Title'\n",
    "test_df.loc[test_df[\"Title\"] == \"Don\", \"Title\"] = 'Rare Title'\n",
    "test_df.loc[test_df[\"Title\"] == \"Major\", \"Title\"] = 'Rare Title'\n",
    "test_df.loc[test_df[\"Title\"] == \"Rev\", \"Title\"] = 'Rare Title'\n",
    "test_df.loc[test_df[\"Title\"] == \"Sir\", \"Title\"] = 'Rare Title'\n",
    "test_df.loc[test_df[\"Title\"] == \"Jonkheer\", \"Title\"] = 'Rare Title'\n",
    "test_df.loc[test_df[\"Title\"] == \"Dr\", \"Title\"] = 'Rare Title'\n",
    "\n",
    "print(train_df['Title'].value_counts())\n",
    "print(test_df['Title'].value_counts())"
   ]
  },
  {
   "cell_type": "markdown",
   "metadata": {},
   "source": [
    "Filling Missing Ages\n",
    "--------------------\n",
    "\n",
    "There is a fair number of missing age.  First I need to understand what the distribution looks like currently to understand better whether the method I am using to replace the missing data will cause a problem along the line."
   ]
  },
  {
   "cell_type": "code",
   "execution_count": null,
   "metadata": {
    "collapsed": false
   },
   "outputs": [],
   "source": [
    "# Quick histogram of age with NaN's ignored so it will plot\n",
    "plt.hist(train_df['Age'].dropna(),bins=80)"
   ]
  },
  {
   "cell_type": "code",
   "execution_count": null,
   "metadata": {
    "collapsed": false
   },
   "outputs": [],
   "source": [
    "# Create dataset\n",
    "imputed = pd.DataFrame()\n",
    "\n",
    "# Fill missing values of Age with the average of Age (mean)\n",
    "train_df[ 'Age' ]= train_df.Age.fillna(train_df.Age.mean()) \n",
    "\n",
    "\n",
    "plt.hist(train_df['Age'],bins=80)"
   ]
  },
  {
   "cell_type": "code",
   "execution_count": null,
   "metadata": {
    "collapsed": true
   },
   "outputs": [],
   "source": [
    "from sklearn.ensemble import RandomForestRegressor\n",
    "#predicting missing values in age using Random Forest\n",
    "def fill_missing_age(df):\n",
    "    \n",
    "    #Feature set\n",
    "    age_df = df[['Pclass','SibSp','Parch','Fare','Title','Sex','FamilySize']]\n",
    "    # Split sets into train and test\n",
    "    train  = age_df.loc[ (df.Age.notnull()) ]# known Age values\n",
    "    test = age_df.loc[ (df.Age.isnull()) ]# null Ages\n",
    "    \n",
    "    # All age values are stored in a target array\n",
    "    y = train.values[:, 0]\n",
    "    \n",
    "    # All the other values are stored in the feature array\n",
    "    X = train.values[:, 1::]\n",
    "    \n",
    "    # Create and fit a model\n",
    "    rtr = RandomForestRegressor(n_estimators=2000, n_jobs=-1)\n",
    "    rtr.fit(X, y)\n",
    "    \n",
    "    # Use the fitted model to predict the missing values\n",
    "    predictedAges = rtr.predict(test.values[:, 1::])\n",
    "    \n",
    "    # Assign those predictions to the full data set\n",
    "    df.loc[ (df.Age.isnull()), 'Age' ] = predictedAges \n",
    "    \n",
    "    return df"
   ]
  },
  {
   "cell_type": "code",
   "execution_count": null,
   "metadata": {
    "collapsed": false
   },
   "outputs": [],
   "source": [
    "# Now apply the function to the data for both training and test data\n",
    "# train_df=fill_missing_age(train_df)\n",
    "# test_df=fill_missing_age(test_df) \n",
    "\n",
    "# Verify that the NaNs are no longer there for age\n",
    "# train_df.isnull().sum()\n",
    "\n"
   ]
  },
  {
   "cell_type": "code",
   "execution_count": null,
   "metadata": {
    "collapsed": true
   },
   "outputs": [],
   "source": [
    "train_df['Agebin'] = pd.cut(train_df['Age'],[0,18,90])\n",
    "test_df['Agebin'] = pd.cut(test_df['Age'],[0,18,90])"
   ]
  },
  {
   "cell_type": "code",
   "execution_count": null,
   "metadata": {
    "collapsed": false
   },
   "outputs": [],
   "source": [
    "sns.swarmplot(x='FamilySize',y='Sex',data=train_df)"
   ]
  },
  {
   "cell_type": "code",
   "execution_count": null,
   "metadata": {
    "collapsed": false
   },
   "outputs": [],
   "source": [
    "train_df.corr()['Survived']\n"
   ]
  },
  {
   "cell_type": "code",
   "execution_count": null,
   "metadata": {
    "collapsed": false
   },
   "outputs": [],
   "source": [
    "# Convert Objects to intergers for better comsumption for machine learning\n",
    "labelEnc=LabelEncoder()\n",
    "\n",
    "cat_vars=['Embarked','Sex','Title']\n",
    "for col in cat_vars:\n",
    "    train_df[col]=labelEnc.fit_transform(train_df[col])\n",
    "    test_df[col]=labelEnc.fit_transform(test_df[col])"
   ]
  },
  {
   "cell_type": "code",
   "execution_count": null,
   "metadata": {
    "collapsed": false
   },
   "outputs": [],
   "source": [
    "from sklearn.preprocessing import LabelEncoder,OneHotEncoder\n",
    "\n",
    "labelEnc=LabelEncoder()\n",
    "\n",
    "cat_vars=['Embarked','Sex','Title','Agebin']\n",
    "for col in cat_vars:\n",
    "    train_df[col]=labelEnc.fit_transform(train_df[col])\n",
    "    test_df[col]=labelEnc.fit_transform(test_df[col])"
   ]
  },
  {
   "cell_type": "code",
   "execution_count": null,
   "metadata": {
    "collapsed": false
   },
   "outputs": [],
   "source": [
    "train_df.corr()[\"Survived\"]"
   ]
  },
  {
   "cell_type": "code",
   "execution_count": null,
   "metadata": {
    "collapsed": false
   },
   "outputs": [],
   "source": [
    "\n",
    "from sklearn import cross_validation\n",
    "from sklearn.linear_model import LogisticRegression\n",
    "from sklearn.model_selection import cross_val_score\n",
    "from sklearn.model_selection import ShuffleSplit\n",
    "\n",
    "predictors = [\"Pclass\", \"Sex\",  \"Embarked\",\"Parch\", \"Title\"]\n",
    "\n",
    "# Initialize our algorithm\n",
    "lr = LogisticRegression(random_state=1)\n",
    "# Compute the accuracy score for all the cross validation folds.\n",
    "cv = ShuffleSplit(n_splits=10, test_size=0.3, random_state=50)\n",
    "\n",
    "scores = cross_val_score(lr, train_df[predictors], \n",
    "                                          train_df[\"Survived\"],scoring='f1', cv=cv)\n",
    "# Take the mean of the scores (because we have one for each fold)\n",
    "print(scores.mean())"
   ]
  },
  {
   "cell_type": "code",
   "execution_count": null,
   "metadata": {
    "collapsed": false
   },
   "outputs": [],
   "source": [
    "\n",
    "from sklearn import cross_validation\n",
    "from sklearn.ensemble import RandomForestClassifier\n",
    "from sklearn.cross_validation import KFold\n",
    "from sklearn.model_selection import cross_val_predict\n",
    "\n",
    "import numpy as np\n",
    "predictors = [\"Pclass\", \"Sex\", \"Age\",\"Fare\",\"Title\",\"SibSp\",\"Parch\", \"FamilySize\"]\n",
    "\n",
    "# Initialize our algorithm with the default paramters\n",
    "# n_estimators is the number of trees we want to make\n",
    "# min_samples_split is the minimum number of rows we need to make a split\n",
    "# min_samples_leaf is the minimum number of samples we can have at the place where a tree branch ends (the bottom points of the tree)\n",
    "forest = RandomForestClassifier(random_state=1, n_estimators=40, min_samples_split=10, \n",
    "                            min_samples_leaf=2)\n",
    "kf = KFold(train_df.shape[0], n_folds=5, random_state=1)\n",
    "cv = ShuffleSplit(n_splits=10, test_size=0.3, random_state=50)\n",
    "\n",
    "predictions = cross_validation.cross_val_predict(forest, train_df[predictors],train_df[\"Survived\"],cv=kf)\n",
    "predictions = pd.Series(predictions)\n",
    "scores = cross_val_score(forest, train_df[predictors], train_df[\"Survived\"],\n",
    "                                          scoring='f1', cv=kf)\n",
    "# Take the mean of the scores (because we have one for each fold)\n",
    "print(scores.mean())"
   ]
  },
  {
   "cell_type": "code",
   "execution_count": null,
   "metadata": {
    "collapsed": false
   },
   "outputs": [],
   "source": [
    "# Import the random forest package\n",
    "from sklearn.ensemble import RandomForestClassifier \n",
    "\n",
    "\n",
    "predictors = [\"Pclass\", \"Sex\", \"Age\",\"Fare\",\"Title\",\"SibSp\",\"Parch\", \"Title\"]\n",
    "\n",
    "forest = RandomForestClassifier(random_state=1, n_estimators=80, max_depth=6,min_samples_split=10, min_samples_leaf=2)\n",
    "forest.fit(train_df[predictors],train_df[\"Survived\"])\n",
    "\n",
    "kf = KFold(train_df.shape[0], n_folds=5, random_state=1)\n",
    "\n",
    "predictions = cross_validation.cross_val_predict(forest, train_df[predictors],train_df[\"Survived\"],cv=kf)\n",
    "predictions = pd.Series(predictions)\n",
    "scores = cross_val_score(forest, train_df[predictors], train_df[\"Survived\"],scoring='f1', cv=kf)\n",
    "# Take the mean of the scores (because we have one for each fold)\n",
    "print(scores.mean())    "
   ]
  },
  {
   "cell_type": "code",
   "execution_count": null,
   "metadata": {
    "collapsed": false
   },
   "outputs": [],
   "source": []
  },
  {
   "cell_type": "code",
   "execution_count": null,
   "metadata": {
    "collapsed": false
   },
   "outputs": [],
   "source": [
    "\n",
    "\n",
    "def plot_distribution( df , var , target , **kwargs ):\n",
    "    row = kwargs.get( 'row' , None )\n",
    "    col = kwargs.get( 'col' , None )\n",
    "    facet = sns.FacetGrid( df , hue=target , aspect=4 , row = row , col = col )\n",
    "    facet.map( sns.kdeplot , var , shade= True )\n",
    "    facet.set( xlim=( 0 , df[ var ].max() ) )\n",
    "    facet.add_legend()\n",
    "    \n",
    "    \n",
    "# Plot distributions of Age of passangers who survived or did not survive\n",
    "plot_distribution( train_df , var = 'Age' , target = 'Survived' , row = 'Sex' )"
   ]
  },
  {
   "cell_type": "code",
   "execution_count": null,
   "metadata": {
    "collapsed": true
   },
   "outputs": [],
   "source": []
  },
  {
   "cell_type": "code",
   "execution_count": null,
   "metadata": {
    "collapsed": true
   },
   "outputs": [],
   "source": []
  },
  {
   "cell_type": "code",
   "execution_count": null,
   "metadata": {
    "collapsed": true
   },
   "outputs": [],
   "source": []
  },
  {
   "cell_type": "code",
   "execution_count": null,
   "metadata": {
    "collapsed": true
   },
   "outputs": [],
   "source": []
  }
 ],
 "metadata": {
  "anaconda-cloud": {},
  "kernelspec": {
   "display_name": "Python [default]",
   "language": "python",
   "name": "python3"
  },
  "language_info": {
   "codemirror_mode": {
    "name": "ipython",
    "version": 3
   },
   "file_extension": ".py",
   "mimetype": "text/x-python",
   "name": "python",
   "nbconvert_exporter": "python",
   "pygments_lexer": "ipython3",
   "version": "3.5.2"
  }
 },
 "nbformat": 4,
 "nbformat_minor": 0
}
